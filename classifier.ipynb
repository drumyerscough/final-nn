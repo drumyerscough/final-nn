{
 "cells": [
  {
   "cell_type": "code",
   "execution_count": 1,
   "id": "d63fe922",
   "metadata": {},
   "outputs": [],
   "source": [
    "import numpy as np\n",
    "from nn import nn, io, preprocess\n",
    "\n",
    "from sklearn import datasets\n",
    "from sklearn.model_selection import train_test_split\n",
    "\n",
    "import matplotlib as mpl\n",
    "import matplotlib.pyplot as plt"
   ]
  },
  {
   "cell_type": "code",
   "execution_count": 2,
   "id": "a0fece2f",
   "metadata": {},
   "outputs": [],
   "source": [
    "architecture = [{'input_dim': 1000, 'output_dim': 500, 'activation': 'relu'}, \n",
    "                {'input_dim': 500, 'output_dim': 500, 'activation': 'relu'},\n",
    "                {'input_dim': 500, 'output_dim': 250, 'activation': 'relu'},\n",
    "                {'input_dim': 250, 'output_dim': 2, 'activation': 'sigmoid'}]\n",
    "\n",
    "my_nn = nn.NeuralNetwork(nn_arch=architecture, lr=1, seed=42, batch_size=500, epochs=1000, loss_function='mse')"
   ]
  },
  {
   "cell_type": "code",
   "execution_count": 3,
   "id": "12a35739",
   "metadata": {},
   "outputs": [
    {
     "name": "stdout",
     "output_type": "stream",
     "text": [
      "GCGCCCATACATCACAT\n",
      "['T', 'T', 'G', 'T', 'C', 'G', 'C', 'C', 'G', 'G', 'G', 'C', 'G', 'C', 'C', 'T', 'A', 'T', 'A', 'G', 'C', 'A', 'G', 'A', 'G', 'T', 'G', 'A', 'C', 'G', 'A', 'T', 'A', 'A', 'A', 'G', 'G', 'T', 'C', 'C', 'T', 'T', 'A', 'A', 'T', 'C', 'C', 'T', 'G', 'C', 'G', 'C', 'T', 'A', 'A', 'G', 'T', 'C', 'G', 'A', 'G', 'C', 'C', 'A', 'T', 'G', 'C', 'A', 'T', 'G', 'C', 'G', 'G', 'A', 'G', 'G', 'G', 'T', 'A', 'A', 'T', 'C', 'A', 'C', 'G', 'A', 'C', 'A', 'T', 'A', 'T', 'A', 'A', 'C', 'C', 'A', 'T', 'T', 'A', 'G', 'G', 'C', 'G', 'A', 'T', 'C', 'T', 'G', 'C', 'A', 'G', 'C', 'A', 'A', 'G', 'T', 'A', 'T', 'A', 'C', 'C', 'T', 'G', 'C', 'C', 'G', 'G', 'A', 'G', 'C', 'G', 'A', 'G', 'G', 'T', 'C', 'G', 'G', 'C', 'A', 'G', 'G', 'C', 'T', 'C', 'T', 'G', 'C', 'G', 'G', 'G', 'G', 'C', 'T', 'C', 'T', 'C', 'G', 'A', 'C', 'T', 'A', 'C', 'T', 'T', 'G', 'C', 'C', 'G', 'C', 'C', 'A', 'G', 'T', 'G', 'C', 'C', 'G', 'G', 'G', 'A', 'G', 'C', 'G', 'G', 'T', 'C', 'A', 'G', 'C', 'G', 'G', 'G', 'T', 'C', 'T', 'A', 'A', 'A', 'T', 'C', 'G', 'T', 'T', 'C', 'T', 'G', 'C', 'C', 'C', 'G', 'A', 'A', 'T', 'G', 'C', 'T', 'T', 'T', 'C', 'T', 'A', 'G', 'G', 'T', 'T', 'C', 'T', 'G', 'G', 'A', 'A', 'A', 'A', 'C', 'A', 'T', 'G', 'A', 'A', 'C', 'T', 'G', 'A', 'T', 'G', 'A', 'C', 'G', 'G', 'G', 'A', 'A', 'G', 'C', 'C', 'C', 'T', 'A', 'C', 'G', 'T', 'G', 'A', 'T', 'A', 'C', 'C', 'A', 'A', 'T', 'G', 'A', 'G', 'C', 'C', 'T', 'C', 'A', 'T', 'A', 'T', 'T', 'T', 'A', 'A', 'G', 'T', 'A', 'G', 'C', 'G', 'A', 'T', 'T', 'T', 'G', 'A', 'G', 'A', 'G', 'T', 'C', 'G', 'T', 'C', 'G', 'C', 'G', 'T', 'C', 'T', 'C', 'A', 'A', 'T', 'G', 'C', 'T', 'G', 'G', 'G', 'A', 'T', 'C', 'T', 'C', 'G', 'T', 'G', 'T', 'A', 'T', 'C', 'G', 'A', 'T', 'A', 'G', 'C', 'G', 'G', 'C', 'C', 'C', 'T', 'C', 'C', 'T', 'T', 'G', 'A', 'A', 'G', 'T', 'T', 'G', 'G', 'G', 'T', 'T', 'C', 'G', 'T', 'A', 'T', 'C', 'G', 'T', 'T', 'A', 'G', 'G', 'A', 'T', 'C', 'T', 'C', 'C', 'C', 'A', 'C', 'T', 'T', 'G', 'A', 'A', 'G', 'A', 'T', 'C', 'T', 'G', 'T', 'C', 'G', 'C', 'C', 'T', 'A', 'A', 'G', 'C', 'A', 'A', 'G', 'A', 'A', 'T', 'T', 'T', 'T', 'G', 'A', 'C', 'C', 'T', 'G', 'A', 'A', 'A', 'A', 'G', 'C', 'T', 'T', 'C', 'A', 'A', 'T', 'T', 'T', 'T', 'C', 'C', 'G', 'A', 'G', 'A', 'G', 'T', 'T', 'T', 'G', 'G', 'A', 'G', 'C', 'T', 'C', 'T', 'A', 'T', 'G', 'T', 'G', 'A', 'C', 'T', 'T', 'G', 'G', 'T', 'T', 'C', 'T', 'A', 'A', 'A', 'A', 'T', 'A', 'G', 'G', 'C', 'A', 'A', 'G', 'C', 'T', 'A', 'C', 'A', 'T', 'T', 'A', 'G', 'G', 'A', 'G', 'G', 'A', 'T', 'T', 'A', 'C', 'A', 'A', 'C', 'A', 'T', 'G', 'G', 'C', 'T', 'A', 'T', 'C', 'G', 'C', 'A', 'A', 'T', 'C', 'C', 'C', 'A', 'A', 'C', 'C', 'A', 'A', 'A', 'T', 'G', 'C', 'A', 'C', 'G', 'G', 'T', 'T', 'A', 'C', 'C', 'A', 'G', 'A', 'A', 'T', 'A', 'C', 'G', 'T', 'T', 'A', 'C', 'A', 'C', 'C', 'C', 'G', 'A', 'A', 'G', 'G', 'G', 'A', 'G', 'C', 'T', 'T', 'T', 'T', 'A', 'G', 'C', 'A', 'T', 'A', 'G', 'G', 'T', 'A', 'T', 'A', 'C', 'T', 'C', 'C', 'G', 'G', 'A', 'G', 'T', 'T', 'A', 'A', 'T', 'G', 'A', 'A', 'C', 'T', 'C', 'A', 'T', 'T', 'A', 'T', 'A', 'A', 'A', 'A', 'C', 'C', 'G', 'G', 'C', 'T', 'T', 'G', 'C', 'G', 'T', 'A', 'A', 'A', 'A', 'T', 'C', 'T', 'C', 'G', 'G', 'T', 'T', 'A', 'G', 'C', 'G', 'A', 'C', 'A', 'C', 'T', 'G', 'T', 'A', 'G', 'G', 'A', 'T', 'A', 'A', 'G', 'T', 'C', 'T', 'A', 'T', 'T', 'G', 'T', 'G', 'G', 'T', 'T', 'G', 'G', 'C', 'G', 'C', 'G', 'G', 'G', 'T', 'A', 'C', 'T', 'C', 'T', 'A', 'T', 'A', 'G', 'G', 'C', 'A', 'G', 'T', 'C', 'A', 'G', 'G', 'A', 'G', 'C', 'C', 'C', 'T', 'C', 'A', 'C', 'G', 'G', 'T', 'A', 'T', 'G', 'G', 'T', 'C', 'G', 'A', 'A', 'A', 'A', 'T', 'A', 'A', 'C', 'T', 'G', 'T', 'A', 'A', 'T', 'A', 'G', 'C', 'G', 'T', 'G', 'C', 'G', 'A', 'A', 'T', 'G', 'G', 'T', 'T', 'G', 'T', 'T', 'G', 'C', 'T', 'T', 'A', 'G', 'G', 'G', 'T', 'G', 'G', 'G', 'C', 'C', 'G', 'A', 'G', 'G', 'C', 'C', 'G', 'G', 'T', 'A', 'A', 'C', 'A', 'T', 'A', 'G', 'G', 'T', 'T', 'C', 'A', 'T', 'C', 'C', 'T', 'A', 'T', 'T', 'T', 'G', 'G', 'G', 'T', 'G', 'A', 'T', 'A', 'T', 'T', 'G', 'G', 'T', 'G', 'G', 'C', 'G', 'C', 'T', 'C', 'C', 'G', 'A', 'T', 'C', 'A', 'A', 'C', 'C', 'C', 'G', 'C', 'G', 'C', 'T', 'G', 'A', 'A', 'A', 'A', 'G', 'C', 'C', 'A', 'C', 'A', 'A', 'G', 'G', 'A', 'T', 'T', 'G', 'T', 'A', 'T', 'A', 'A', 'A', 'G', 'G', 'A', 'G', 'G', 'G', 'G', 'T', 'A', 'G', 'C', 'G', 'C', 'T', 'C', 'G', 'C', 'C', 'C', 'C', 'A', 'G', 'G', 'G', 'T', 'T', 'A', 'T', 'T', 'G', 'A', 'C', 'C', 'T', 'T', 'A', 'C', 'G', 'T', 'T', 'A', 'C', 'T', 'G', 'A', 'T', 'G', 'C', 'G', 'T', 'C', 'A', 'G', 'A', 'T', 'C', 'T', 'A', 'C', 'G', 'G', 'T', 'C', 'C', 'A', 'C', 'A', 'A', 'T', 'C', 'A', 'A', 'A', 'T', 'G', 'A', 'A', 'C', 'C', 'C', 'A', 'G', 'C', 'T', 'C', 'C', 'T', 'A', 'T', 'G', 'G', 'G', 'G', 'C', 'G', 'T', 'T', 'A', 'G', 'G', 'C', 'A', 'C', 'G', 'A', 'G', 'T', 'A', 'G', 'T', 'C', 'G', 'G', 'C', 'C', 'A', 'A', 'G', 'G', 'A', 'T', 'C', 'A', 'T', 'C', 'C', 'C', 'A', 'G', 'T', 'C', 'T', 'T', 'A', 'T', 'C', 'T', 'T', 'C', 'A', 'C', 'A', 'T', 'A', 'C', 'T', 'A', 'C', 'C', 'C', 'G', 'A', 'A', 'C', 'G', 'C', 'A', 'A', 'G', 'G', 'T', 'A']\n"
     ]
    },
    {
     "ename": "TypeError",
     "evalue": "can only concatenate list (not \"str\") to list",
     "output_type": "error",
     "traceback": [
      "\u001b[1;31m---------------------------------------------------------------------------\u001b[0m",
      "\u001b[1;31mTypeError\u001b[0m                                 Traceback (most recent call last)",
      "\u001b[1;32m~\\AppData\\Local\\Temp/ipykernel_19844/944732853.py\u001b[0m in \u001b[0;36m<module>\u001b[1;34m\u001b[0m\n\u001b[0;32m      2\u001b[0m \u001b[0mpositives\u001b[0m \u001b[1;33m=\u001b[0m \u001b[0mio\u001b[0m\u001b[1;33m.\u001b[0m\u001b[0mread_text_file\u001b[0m\u001b[1;33m(\u001b[0m\u001b[1;34m'data/rap1-lieb-positives.txt'\u001b[0m\u001b[1;33m)\u001b[0m\u001b[1;33m\u001b[0m\u001b[1;33m\u001b[0m\u001b[0m\n\u001b[0;32m      3\u001b[0m \u001b[1;33m\u001b[0m\u001b[0m\n\u001b[1;32m----> 4\u001b[1;33m \u001b[0mseqs\u001b[0m\u001b[1;33m,\u001b[0m \u001b[0mlabels\u001b[0m \u001b[1;33m=\u001b[0m \u001b[0mpreprocess\u001b[0m\u001b[1;33m.\u001b[0m\u001b[0msample_seqs\u001b[0m\u001b[1;33m(\u001b[0m\u001b[0mnegatives\u001b[0m\u001b[1;33m+\u001b[0m\u001b[0mpositives\u001b[0m\u001b[1;33m,\u001b[0m \u001b[1;33m[\u001b[0m\u001b[1;32mFalse\u001b[0m \u001b[1;32mfor\u001b[0m \u001b[0m_\u001b[0m \u001b[1;32min\u001b[0m \u001b[0mnegatives\u001b[0m\u001b[1;33m]\u001b[0m \u001b[1;33m+\u001b[0m \u001b[1;33m[\u001b[0m\u001b[1;32mTrue\u001b[0m \u001b[1;32mfor\u001b[0m \u001b[0m_\u001b[0m \u001b[1;32min\u001b[0m \u001b[0mpositives\u001b[0m\u001b[1;33m]\u001b[0m\u001b[1;33m)\u001b[0m\u001b[1;33m\u001b[0m\u001b[1;33m\u001b[0m\u001b[0m\n\u001b[0m\u001b[0;32m      5\u001b[0m \u001b[0mseqs_1hot\u001b[0m \u001b[1;33m=\u001b[0m \u001b[0mpreprocess\u001b[0m\u001b[1;33m.\u001b[0m\u001b[0mone_hot_encode_seqs\u001b[0m\u001b[1;33m(\u001b[0m\u001b[0mseqs\u001b[0m\u001b[1;33m)\u001b[0m\u001b[1;33m\u001b[0m\u001b[1;33m\u001b[0m\u001b[0m\n",
      "\u001b[1;32m~\\Documents\\GitHub\\final-nn\\nn\\preprocess.py\u001b[0m in \u001b[0;36msample_seqs\u001b[1;34m(seqs, labels)\u001b[0m\n\u001b[0;32m     55\u001b[0m         \u001b[0mprint\u001b[0m\u001b[1;33m(\u001b[0m\u001b[0mmutated_seq\u001b[0m\u001b[1;33m)\u001b[0m\u001b[1;33m\u001b[0m\u001b[1;33m\u001b[0m\u001b[0m\n\u001b[0;32m     56\u001b[0m         \u001b[0mprint\u001b[0m\u001b[1;33m(\u001b[0m\u001b[0mpadded_seq\u001b[0m\u001b[1;33m)\u001b[0m\u001b[1;33m\u001b[0m\u001b[1;33m\u001b[0m\u001b[0m\n\u001b[1;32m---> 57\u001b[1;33m         \u001b[0mpadded_seq\u001b[0m \u001b[1;33m=\u001b[0m \u001b[0mpadded_seq\u001b[0m\u001b[1;33m[\u001b[0m\u001b[1;33m:\u001b[0m\u001b[0mrand_idx\u001b[0m\u001b[1;33m]\u001b[0m \u001b[1;33m+\u001b[0m \u001b[0mmutated_seq\u001b[0m \u001b[1;33m+\u001b[0m \u001b[0mpadded_seq\u001b[0m\u001b[1;33m[\u001b[0m\u001b[0mrand_idx\u001b[0m\u001b[1;33m+\u001b[0m\u001b[0mlen\u001b[0m\u001b[1;33m(\u001b[0m\u001b[0mmutated_seq\u001b[0m\u001b[1;33m)\u001b[0m\u001b[1;33m:\u001b[0m\u001b[1;33m]\u001b[0m\u001b[1;33m\u001b[0m\u001b[1;33m\u001b[0m\u001b[0m\n\u001b[0m\u001b[0;32m     58\u001b[0m \u001b[1;33m\u001b[0m\u001b[0m\n\u001b[0;32m     59\u001b[0m         \u001b[0msampled_seqs\u001b[0m\u001b[1;33m.\u001b[0m\u001b[0mappend\u001b[0m\u001b[1;33m(\u001b[0m\u001b[0mpadded_seq\u001b[0m\u001b[1;33m)\u001b[0m\u001b[1;33m\u001b[0m\u001b[1;33m\u001b[0m\u001b[0m\n",
      "\u001b[1;31mTypeError\u001b[0m: can only concatenate list (not \"str\") to list"
     ]
    }
   ],
   "source": [
    "negatives = io.read_fasta_file('data/yeast-upstream-1k-negative.fa')\n",
    "positives = io.read_text_file('data/rap1-lieb-positives.txt')\n",
    "\n",
    "seqs, labels = preprocess.sample_seqs(negatives+positives, [False for _ in negatives] + [True for _ in positives])\n",
    "seqs_1hot = preprocess.one_hot_encode_seqs(seqs)"
   ]
  },
  {
   "cell_type": "code",
   "execution_count": null,
   "id": "c0db2005",
   "metadata": {},
   "outputs": [],
   "source": [
    "{length: [len(seq) for seq in negatives].count(length) for length in {52, 334, 490, 629, 792, 1000}}"
   ]
  },
  {
   "cell_type": "code",
   "execution_count": null,
   "id": "6b184ade",
   "metadata": {},
   "outputs": [],
   "source": [
    "plt.hist([len(seq) for seq in negatives])"
   ]
  },
  {
   "cell_type": "code",
   "execution_count": null,
   "id": "50e8e3f2",
   "metadata": {},
   "outputs": [],
   "source": [
    "\n",
    "X_train, X_test, y_train, y_test = train_test_split(seqs_1hot, labels, test_size=0.3, random_state=42, shuffle=True, stratify=None)\n",
    "\n",
    "per_epoch_loss_train, per_epoch_loss_val = my_nn.fit(X_train, y_train, X_test, y_test)"
   ]
  },
  {
   "cell_type": "code",
   "execution_count": null,
   "id": "2c6a68db",
   "metadata": {},
   "outputs": [],
   "source": [
    "# plot training and test losses across epochs\n",
    "plt.plot(per_epoch_loss_train)\n",
    "plt.plot(per_epoch_loss_val)\n",
    "\n",
    "plt.xlabel('Epoch')\n",
    "plt.ylabel('Average MSE')\n",
    "plt.title('Training and test loss')\n",
    "plt.tight_layout()"
   ]
  },
  {
   "cell_type": "code",
   "execution_count": null,
   "id": "f3e06888",
   "metadata": {},
   "outputs": [],
   "source": [
    "lbl_map = {0: 'A', 1: 'T', 2: 'C', 3: 'G'}\n",
    "mapper = np.vectorize(pyfunc=lambda x: lbl_map[x])\n",
    "max_seq_len = 10\n",
    "padded_seq = mapper(np.random.randint(0, high=4, size=max_seq_len))\n",
    "padded_seq.tolist()"
   ]
  }
 ],
 "metadata": {
  "kernelspec": {
   "display_name": "Python 3 (ipykernel)",
   "language": "python",
   "name": "python3"
  },
  "language_info": {
   "codemirror_mode": {
    "name": "ipython",
    "version": 3
   },
   "file_extension": ".py",
   "mimetype": "text/x-python",
   "name": "python",
   "nbconvert_exporter": "python",
   "pygments_lexer": "ipython3",
   "version": "3.9.7"
  }
 },
 "nbformat": 4,
 "nbformat_minor": 5
}
