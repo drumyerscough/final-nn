{
 "cells": [
  {
   "cell_type": "code",
   "execution_count": 1,
   "id": "fd9af04e",
   "metadata": {},
   "outputs": [],
   "source": [
    "import numpy as np\n",
    "from nn import nn, io, preprocess"
   ]
  },
  {
   "cell_type": "code",
   "execution_count": 2,
   "id": "fbee752c",
   "metadata": {},
   "outputs": [],
   "source": [
    "architecture = [{'input_dim': 64, 'output_dim': 32, 'activation': 'relu'}, \n",
    "                {'input_dim': 32, 'output_dim': 8, 'activation:': 'sigmoid'}]\n",
    "\n",
    "my_nn = nn.NeuralNetwork(nn_arch=architecture, lr=0.5, seed=42, batch_size=10, epochs=10, loss_function='mse')"
   ]
  },
  {
   "cell_type": "code",
   "execution_count": 3,
   "id": "647c4b9d",
   "metadata": {},
   "outputs": [],
   "source": [
    "negatives = io.read_fasta_file('data/yeast-upstream-1k-negative.fa')\n",
    "positives = io.read_text_file('data/rap1-lieb-positives.txt')\n",
    "\n",
    "seqs, labels = preprocess.sample_seqs(negatives+positives, [False for _ in negatives] + [True for _ in positives])\n",
    "seqs_1hot = preprocess.one_hot_encode_seqs(seqs)"
   ]
  },
  {
   "cell_type": "code",
   "execution_count": 10,
   "id": "34b70d25",
   "metadata": {},
   "outputs": [
    {
     "data": {
      "text/plain": [
       "(68,)"
      ]
     },
     "execution_count": 10,
     "metadata": {},
     "output_type": "execute_result"
    }
   ],
   "source": [
    "seqs_1hot[4].shape"
   ]
  }
 ],
 "metadata": {
  "kernelspec": {
   "display_name": "Python 3 (ipykernel)",
   "language": "python",
   "name": "python3"
  },
  "language_info": {
   "codemirror_mode": {
    "name": "ipython",
    "version": 3
   },
   "file_extension": ".py",
   "mimetype": "text/x-python",
   "name": "python",
   "nbconvert_exporter": "python",
   "pygments_lexer": "ipython3",
   "version": "3.9.16"
  }
 },
 "nbformat": 4,
 "nbformat_minor": 5
}
