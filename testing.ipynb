{
 "cells": [
  {
   "cell_type": "code",
   "execution_count": 1,
   "id": "e225acf0",
   "metadata": {},
   "outputs": [],
   "source": [
    "import numpy as np\n",
    "from nn import nn, io, preprocess"
   ]
  },
  {
   "cell_type": "code",
   "execution_count": 2,
   "id": "01a45823",
   "metadata": {},
   "outputs": [],
   "source": [
    "architecture = [{'input_dim': 64, 'output_dim': 32, 'activation': 'relu'}, \n",
    "                {'input_dim': 32, 'output_dim': 8, 'activation:': 'sigmoid'}]\n",
    "\n",
    "my_nn = nn.NeuralNetwork(nn_arch=architecture, lr=0.5, seed=42, batch_size=10, epochs=10, loss_function='mse')"
   ]
  },
  {
   "cell_type": "code",
   "execution_count": null,
   "id": "01856f1f",
   "metadata": {},
   "outputs": [],
   "source": [
    "negatives = io.read_fasta_file('data/yeast-upstream-1k-negative.fa')\n",
    "positives = io.read_text_file('data/rap1-lieb-positives.txt')\n",
    "\n",
    "\n",
    "\n",
    "preprocess.one_hot_encode_seqs()"
   ]
  },
  {
   "cell_type": "code",
   "execution_count": 19,
   "id": "da98857b",
   "metadata": {},
   "outputs": [
    {
     "data": {
      "text/plain": [
       "array([2, 2, 3, 2])"
      ]
     },
     "execution_count": 19,
     "metadata": {},
     "output_type": "execute_result"
    }
   ],
   "source": [
    "arr1 = [0, 1, 0, 0]\n",
    "arr2 = [2, 3, 2, 2]\n",
    "\n",
    "arr = np.column_stack((arr1, arr2))\n",
    "np.random.shuffle(arr)\n",
    "\n",
    "arr[:,1]"
   ]
  }
 ],
 "metadata": {
  "kernelspec": {
   "display_name": "Python 3 (ipykernel)",
   "language": "python",
   "name": "python3"
  },
  "language_info": {
   "codemirror_mode": {
    "name": "ipython",
    "version": 3
   },
   "file_extension": ".py",
   "mimetype": "text/x-python",
   "name": "python",
   "nbconvert_exporter": "python",
   "pygments_lexer": "ipython3",
   "version": "3.9.16"
  }
 },
 "nbformat": 4,
 "nbformat_minor": 5
}
