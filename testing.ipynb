{
 "cells": [
  {
   "cell_type": "code",
   "execution_count": 1,
   "id": "6aecc263",
   "metadata": {},
   "outputs": [],
   "source": [
    "import numpy as np\n",
    "from nn import nn, io, preprocess\n",
    "\n",
    "from sklearn import datasets\n",
    "from sklearn.model_selection import train_test_split"
   ]
  },
  {
   "cell_type": "code",
   "execution_count": 2,
   "id": "bf89b25b",
   "metadata": {},
   "outputs": [],
   "source": [
    "architecture = [{'input_dim': 64, 'output_dim': 32, 'activation': 'relu'}, \n",
    "                {'input_dim': 32, 'output_dim': 32, 'activation': 'relu'},\n",
    "                {'input_dim': 32, 'output_dim': 64, 'activation': 'relu'}]\n",
    "\n",
    "my_nn = nn.NeuralNetwork(nn_arch=architecture, lr=0.000001, seed=42, batch_size=419, epochs=10, loss_function='mse')"
   ]
  },
  {
   "cell_type": "code",
   "execution_count": 3,
   "id": "7f09a4d9",
   "metadata": {},
   "outputs": [],
   "source": [
    "#negatives = io.read_fasta_file('data/yeast-upstream-1k-negative.fa')\n",
    "#positives = io.read_text_file('data/rap1-lieb-positives.txt')\n",
    "\n",
    "#seqs, labels = preprocess.sample_seqs(negatives+positives, [False for _ in negatives] + [True for _ in positives])\n",
    "#seqs_1hot = preprocess.one_hot_encode_seqs(seqs)"
   ]
  },
  {
   "cell_type": "code",
   "execution_count": 4,
   "id": "82de15e3",
   "metadata": {},
   "outputs": [],
   "source": [
    "digits = datasets.load_digits()"
   ]
  },
  {
   "cell_type": "code",
   "execution_count": 5,
   "id": "aa3a9baa",
   "metadata": {},
   "outputs": [
    {
     "data": {
      "text/plain": [
       "['DESCR', 'data', 'feature_names', 'frame', 'images', 'target', 'target_names']"
      ]
     },
     "execution_count": 5,
     "metadata": {},
     "output_type": "execute_result"
    }
   ],
   "source": [
    "dir(digits)"
   ]
  },
  {
   "cell_type": "code",
   "execution_count": 6,
   "id": "4ee4a8bd",
   "metadata": {},
   "outputs": [],
   "source": [
    "digits_data = digits.data"
   ]
  },
  {
   "cell_type": "code",
   "execution_count": 7,
   "id": "44d97f64",
   "metadata": {},
   "outputs": [
    {
     "data": {
      "text/plain": [
       "(1797, 64)"
      ]
     },
     "execution_count": 7,
     "metadata": {},
     "output_type": "execute_result"
    }
   ],
   "source": [
    "digits.data.shape"
   ]
  },
  {
   "cell_type": "code",
   "execution_count": 8,
   "id": "2ba5ad38",
   "metadata": {},
   "outputs": [],
   "source": [
    "#my_nn.predict(digits.data).shape"
   ]
  },
  {
   "cell_type": "code",
   "execution_count": 9,
   "id": "b8bf3cb9",
   "metadata": {},
   "outputs": [
    {
     "name": "stdout",
     "output_type": "stream",
     "text": [
      "starting epoch #0\n",
      "(32, 64)\n",
      "(64, 419)\n",
      "(32, 32)\n",
      "(32, 419)\n",
      "(64, 32)\n",
      "(32, 419)\n"
     ]
    },
    {
     "ename": "ValueError",
     "evalue": "operands could not be broadcast together with shapes (419,64) (64,419) ",
     "output_type": "error",
     "traceback": [
      "\u001b[1;31m---------------------------------------------------------------------------\u001b[0m",
      "\u001b[1;31mValueError\u001b[0m                                Traceback (most recent call last)",
      "Cell \u001b[1;32mIn[9], line 3\u001b[0m\n\u001b[0;32m      1\u001b[0m X_train, X_test, y_train, y_test \u001b[38;5;241m=\u001b[39m train_test_split(digits\u001b[38;5;241m.\u001b[39mdata, digits\u001b[38;5;241m.\u001b[39mdata, test_size\u001b[38;5;241m=\u001b[39m\u001b[38;5;241m0.3\u001b[39m, random_state\u001b[38;5;241m=\u001b[39m\u001b[38;5;241m42\u001b[39m, shuffle\u001b[38;5;241m=\u001b[39m\u001b[38;5;28;01mTrue\u001b[39;00m, stratify\u001b[38;5;241m=\u001b[39m\u001b[38;5;28;01mNone\u001b[39;00m)\n\u001b[1;32m----> 3\u001b[0m per_epoch_loss_train, per_epoch_loss_val \u001b[38;5;241m=\u001b[39m \u001b[43mmy_nn\u001b[49m\u001b[38;5;241;43m.\u001b[39;49m\u001b[43mfit\u001b[49m\u001b[43m(\u001b[49m\u001b[43mX_train\u001b[49m\u001b[43m,\u001b[49m\u001b[43m \u001b[49m\u001b[43my_train\u001b[49m\u001b[43m,\u001b[49m\u001b[43m \u001b[49m\u001b[43mX_test\u001b[49m\u001b[43m,\u001b[49m\u001b[43m \u001b[49m\u001b[43my_test\u001b[49m\u001b[43m)\u001b[49m\n",
      "File \u001b[1;32m~\\Documents\\GitHub\\final-nn\\nn\\nn.py:308\u001b[0m, in \u001b[0;36mNeuralNetwork.fit\u001b[1;34m(self, X_train, y_train, X_val, y_val)\u001b[0m\n\u001b[0;32m    306\u001b[0m y_batch \u001b[38;5;241m=\u001b[39m batch[:, X_train\u001b[38;5;241m.\u001b[39mshape[\u001b[38;5;241m1\u001b[39m]:]\n\u001b[0;32m    307\u001b[0m output, cache \u001b[38;5;241m=\u001b[39m \u001b[38;5;28mself\u001b[39m\u001b[38;5;241m.\u001b[39mforward(X_batch)\n\u001b[1;32m--> 308\u001b[0m grad_dict \u001b[38;5;241m=\u001b[39m \u001b[38;5;28;43mself\u001b[39;49m\u001b[38;5;241;43m.\u001b[39;49m\u001b[43mbackprop\u001b[49m\u001b[43m(\u001b[49m\u001b[43my_batch\u001b[49m\u001b[43m,\u001b[49m\u001b[43m \u001b[49m\u001b[43moutput\u001b[49m\u001b[43m,\u001b[49m\u001b[43m \u001b[49m\u001b[43mcache\u001b[49m\u001b[43m)\u001b[49m\n\u001b[0;32m    310\u001b[0m per_epoch_loss_train\u001b[38;5;241m.\u001b[39mappend(loss(output, y_batch))\n\u001b[0;32m    311\u001b[0m \u001b[38;5;66;03m#per_epoch_loss_val.append(loss(self.predict(X_val), y_val))\u001b[39;00m\n",
      "File \u001b[1;32m~\\Documents\\GitHub\\final-nn\\nn\\nn.py:224\u001b[0m, in \u001b[0;36mNeuralNetwork.backprop\u001b[1;34m(self, y, y_hat, cache)\u001b[0m\n\u001b[0;32m    221\u001b[0m f_primes \u001b[38;5;241m=\u001b[39m {\u001b[38;5;124m'\u001b[39m\u001b[38;5;124mrelu\u001b[39m\u001b[38;5;124m'\u001b[39m: \u001b[38;5;28mself\u001b[39m\u001b[38;5;241m.\u001b[39m_relu_backprop, \u001b[38;5;124m'\u001b[39m\u001b[38;5;124msigmoid\u001b[39m\u001b[38;5;124m'\u001b[39m: \u001b[38;5;28mself\u001b[39m\u001b[38;5;241m.\u001b[39m_sigmoid_backprop}\n\u001b[0;32m    222\u001b[0m f_prime \u001b[38;5;241m=\u001b[39m f_primes[\u001b[38;5;28mself\u001b[39m\u001b[38;5;241m.\u001b[39march[\u001b[38;5;241m-\u001b[39m\u001b[38;5;241m1\u001b[39m][\u001b[38;5;124m'\u001b[39m\u001b[38;5;124mactivation\u001b[39m\u001b[38;5;124m'\u001b[39m]]\n\u001b[1;32m--> 224\u001b[0m dA_prev \u001b[38;5;241m=\u001b[39m \u001b[43mloss_backprop\u001b[49m\u001b[43m(\u001b[49m\u001b[43my\u001b[49m\u001b[43m,\u001b[49m\u001b[43m \u001b[49m\u001b[43my_hat\u001b[49m\u001b[43m)\u001b[49m \u001b[38;5;241m*\u001b[39m f_prime(\u001b[38;5;28;01mNone\u001b[39;00m, cache[\u001b[38;5;28mlen\u001b[39m(\u001b[38;5;28mself\u001b[39m\u001b[38;5;241m.\u001b[39march)][\u001b[38;5;241m0\u001b[39m])\n\u001b[0;32m    226\u001b[0m \u001b[38;5;66;03m# wtf is previous? what indices should I be putting into cache?\u001b[39;00m\n\u001b[0;32m    228\u001b[0m \u001b[38;5;28;01mfor\u001b[39;00m idx \u001b[38;5;129;01min\u001b[39;00m \u001b[38;5;28mrange\u001b[39m(\u001b[38;5;241m1\u001b[39m,\u001b[38;5;241m1\u001b[39m\u001b[38;5;241m+\u001b[39m\u001b[38;5;28mlen\u001b[39m(\u001b[38;5;28mself\u001b[39m\u001b[38;5;241m.\u001b[39march)):\n",
      "File \u001b[1;32m~\\Documents\\GitHub\\final-nn\\nn\\nn.py:455\u001b[0m, in \u001b[0;36mNeuralNetwork._mean_squared_error_backprop\u001b[1;34m(self, y, y_hat)\u001b[0m\n\u001b[0;32m    441\u001b[0m \u001b[38;5;28;01mdef\u001b[39;00m \u001b[38;5;21m_mean_squared_error_backprop\u001b[39m(\u001b[38;5;28mself\u001b[39m, y: ArrayLike, y_hat: ArrayLike) \u001b[38;5;241m-\u001b[39m\u001b[38;5;241m>\u001b[39m ArrayLike:\n\u001b[0;32m    442\u001b[0m \u001b[38;5;250m    \u001b[39m\u001b[38;5;124;03m\"\"\"\u001b[39;00m\n\u001b[0;32m    443\u001b[0m \u001b[38;5;124;03m    Mean square error loss derivative for backprop.\u001b[39;00m\n\u001b[0;32m    444\u001b[0m \n\u001b[1;32m   (...)\u001b[0m\n\u001b[0;32m    453\u001b[0m \u001b[38;5;124;03m            partial derivative of loss with respect to A matrix.\u001b[39;00m\n\u001b[0;32m    454\u001b[0m \u001b[38;5;124;03m    \"\"\"\u001b[39;00m\n\u001b[1;32m--> 455\u001b[0m     \u001b[38;5;28;01mreturn\u001b[39;00m np\u001b[38;5;241m.\u001b[39msum(\u001b[43my\u001b[49m\u001b[43m \u001b[49m\u001b[38;5;241;43m-\u001b[39;49m\u001b[43m \u001b[49m\u001b[43my_hat\u001b[49m) \u001b[38;5;241m/\u001b[39m \u001b[38;5;28mlen\u001b[39m(y)\n",
      "\u001b[1;31mValueError\u001b[0m: operands could not be broadcast together with shapes (419,64) (64,419) "
     ]
    }
   ],
   "source": [
    "X_train, X_test, y_train, y_test = train_test_split(digits.data, digits.data, test_size=0.3, random_state=42, shuffle=True, stratify=None)\n",
    "\n",
    "per_epoch_loss_train, per_epoch_loss_val = my_nn.fit(X_train, y_train, X_test, y_test)"
   ]
  },
  {
   "cell_type": "code",
   "execution_count": null,
   "id": "62527bed",
   "metadata": {
    "scrolled": true
   },
   "outputs": [],
   "source": [
    "num_batches = int(np.ceil(len(y_train) / 100))\n",
    "c = np.concatenate((X_train, y_train), axis=1)\n",
    "np.random.shuffle(c)\n",
    "\n",
    "#np.array_split(c, num_batches)"
   ]
  },
  {
   "cell_type": "code",
   "execution_count": null,
   "id": "7f627b79",
   "metadata": {},
   "outputs": [],
   "source": [
    "print(X_train.shape)\n",
    "print(y_train.shape)\n",
    "print(c.shape)"
   ]
  },
  {
   "cell_type": "code",
   "execution_count": null,
   "id": "4be0abee",
   "metadata": {},
   "outputs": [],
   "source": [
    "import matplotlib as mpl\n",
    "import matplotlib.pyplot as plt\n",
    "\n",
    "plt.plot(per_epoch_loss_train)\n",
    "plt.plot(per_epoch_loss_val)"
   ]
  },
  {
   "cell_type": "code",
   "execution_count": null,
   "id": "c80d98fa",
   "metadata": {},
   "outputs": [],
   "source": [
    "plt.imshow(my_nn.predict(X_train[:419,:])[0,:].reshape((8,8)))"
   ]
  },
  {
   "cell_type": "code",
   "execution_count": null,
   "id": "9067919c",
   "metadata": {},
   "outputs": [],
   "source": [
    "my_nn.predict(X_train[:419,:])[0,:]"
   ]
  }
 ],
 "metadata": {
  "kernelspec": {
   "display_name": "Python 3 (ipykernel)",
   "language": "python",
   "name": "python3"
  },
  "language_info": {
   "codemirror_mode": {
    "name": "ipython",
    "version": 3
   },
   "file_extension": ".py",
   "mimetype": "text/x-python",
   "name": "python",
   "nbconvert_exporter": "python",
   "pygments_lexer": "ipython3",
   "version": "3.9.16"
  }
 },
 "nbformat": 4,
 "nbformat_minor": 5
}
