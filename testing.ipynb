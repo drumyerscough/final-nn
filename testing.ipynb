{
 "cells": [
  {
   "cell_type": "code",
   "execution_count": 1,
   "id": "621b40b3",
   "metadata": {},
   "outputs": [],
   "source": [
    "import numpy as np\n",
    "from nn import nn, io, preprocess\n",
    "\n",
    "from sklearn import datasets\n",
    "from sklearn.model_selection import train_test_split"
   ]
  },
  {
   "cell_type": "code",
   "execution_count": 2,
   "id": "6325a8a7",
   "metadata": {},
   "outputs": [],
   "source": [
    "architecture = [{'input_dim': 64, 'output_dim': 32, 'activation': 'relu'}, \n",
    "                {'input_dim': 32, 'output_dim': 32, 'activation': 'relu'},\n",
    "                {'input_dim': 32, 'output_dim': 64, 'activation': 'sigmoid'}]\n",
    "\n",
    "my_nn = nn.NeuralNetwork(nn_arch=architecture, lr=0.01, seed=42, batch_size=419, epochs=100, loss_function='mse')"
   ]
  },
  {
   "cell_type": "code",
   "execution_count": 3,
   "id": "7cc711c0",
   "metadata": {},
   "outputs": [],
   "source": [
    "#negatives = io.read_fasta_file('data/yeast-upstream-1k-negative.fa')\n",
    "#positives = io.read_text_file('data/rap1-lieb-positives.txt')\n",
    "\n",
    "#seqs, labels = preprocess.sample_seqs(negatives+positives, [False for _ in negatives] + [True for _ in positives])\n",
    "#seqs_1hot = preprocess.one_hot_encode_seqs(seqs)"
   ]
  },
  {
   "cell_type": "code",
   "execution_count": 4,
   "id": "c2bac7f3",
   "metadata": {},
   "outputs": [],
   "source": [
    "digits = datasets.load_digits()"
   ]
  },
  {
   "cell_type": "code",
   "execution_count": 5,
   "id": "973638bc",
   "metadata": {},
   "outputs": [
    {
     "data": {
      "text/plain": [
       "['DESCR', 'data', 'feature_names', 'frame', 'images', 'target', 'target_names']"
      ]
     },
     "execution_count": 5,
     "metadata": {},
     "output_type": "execute_result"
    }
   ],
   "source": [
    "dir(digits)"
   ]
  },
  {
   "cell_type": "code",
   "execution_count": 6,
   "id": "ee79c0e5",
   "metadata": {},
   "outputs": [],
   "source": [
    "digits_data = digits.data"
   ]
  },
  {
   "cell_type": "code",
   "execution_count": 7,
   "id": "14024248",
   "metadata": {},
   "outputs": [
    {
     "data": {
      "text/plain": [
       "(1797, 64)"
      ]
     },
     "execution_count": 7,
     "metadata": {},
     "output_type": "execute_result"
    }
   ],
   "source": [
    "digits.data.shape"
   ]
  },
  {
   "cell_type": "code",
   "execution_count": 8,
   "id": "6f7b5c9d",
   "metadata": {},
   "outputs": [],
   "source": [
    "#my_nn.predict(digits.data).shape"
   ]
  },
  {
   "cell_type": "code",
   "execution_count": 9,
   "id": "704d3fb2",
   "metadata": {},
   "outputs": [
    {
     "name": "stdout",
     "output_type": "stream",
     "text": [
      "starting epoch #0\n",
      "(32, 64)\n",
      "(64, 419)\n",
      "(32, 32)\n",
      "(32, 419)\n",
      "(64, 32)\n",
      "(32, 419)\n",
      "124.87317793907047\n",
      "backpropping thru layer\n",
      "(32, 32)\n",
      "()\n",
      "(64, 419)\n",
      "(32, 419)\n",
      "(64, 419)\n"
     ]
    },
    {
     "ename": "ValueError",
     "evalue": "matmul: Input operand 1 has a mismatch in its core dimension 0, with gufunc signature (n?,k),(k,m?)->(n?,m?) (size 64 is different from 32)",
     "output_type": "error",
     "traceback": [
      "\u001b[1;31m---------------------------------------------------------------------------\u001b[0m",
      "\u001b[1;31mValueError\u001b[0m                                Traceback (most recent call last)",
      "Cell \u001b[1;32mIn[9], line 5\u001b[0m\n\u001b[0;32m      1\u001b[0m digits_data_normalized \u001b[38;5;241m=\u001b[39m digits\u001b[38;5;241m.\u001b[39mdata \u001b[38;5;241m/\u001b[39m \u001b[38;5;241m16\u001b[39m\n\u001b[0;32m      3\u001b[0m X_train, X_test, y_train, y_test \u001b[38;5;241m=\u001b[39m train_test_split(digits_data_normalized, digits_data_normalized, test_size\u001b[38;5;241m=\u001b[39m\u001b[38;5;241m0.3\u001b[39m, random_state\u001b[38;5;241m=\u001b[39m\u001b[38;5;241m42\u001b[39m, shuffle\u001b[38;5;241m=\u001b[39m\u001b[38;5;28;01mTrue\u001b[39;00m, stratify\u001b[38;5;241m=\u001b[39m\u001b[38;5;28;01mNone\u001b[39;00m)\n\u001b[1;32m----> 5\u001b[0m per_epoch_loss_train, per_epoch_loss_val \u001b[38;5;241m=\u001b[39m \u001b[43mmy_nn\u001b[49m\u001b[38;5;241;43m.\u001b[39;49m\u001b[43mfit\u001b[49m\u001b[43m(\u001b[49m\u001b[43mX_train\u001b[49m\u001b[43m,\u001b[49m\u001b[43m \u001b[49m\u001b[43my_train\u001b[49m\u001b[43m,\u001b[49m\u001b[43m \u001b[49m\u001b[43mX_test\u001b[49m\u001b[43m,\u001b[49m\u001b[43m \u001b[49m\u001b[43my_test\u001b[49m\u001b[43m)\u001b[49m\n",
      "File \u001b[1;32m~\\Documents\\GitHub\\final-nn\\nn\\nn.py:314\u001b[0m, in \u001b[0;36mNeuralNetwork.fit\u001b[1;34m(self, X_train, y_train, X_val, y_val)\u001b[0m\n\u001b[0;32m    312\u001b[0m y_batch \u001b[38;5;241m=\u001b[39m batch[:, X_train\u001b[38;5;241m.\u001b[39mshape[\u001b[38;5;241m1\u001b[39m]:]\n\u001b[0;32m    313\u001b[0m output, cache \u001b[38;5;241m=\u001b[39m \u001b[38;5;28mself\u001b[39m\u001b[38;5;241m.\u001b[39mforward(X_batch)\n\u001b[1;32m--> 314\u001b[0m grad_dict \u001b[38;5;241m=\u001b[39m \u001b[38;5;28;43mself\u001b[39;49m\u001b[38;5;241;43m.\u001b[39;49m\u001b[43mbackprop\u001b[49m\u001b[43m(\u001b[49m\u001b[43my_batch\u001b[49m\u001b[38;5;241;43m.\u001b[39;49m\u001b[43mT\u001b[49m\u001b[43m,\u001b[49m\u001b[43m \u001b[49m\u001b[43moutput\u001b[49m\u001b[43m,\u001b[49m\u001b[43m \u001b[49m\u001b[43mcache\u001b[49m\u001b[43m)\u001b[49m\n\u001b[0;32m    316\u001b[0m per_epoch_loss_train\u001b[38;5;241m.\u001b[39mappend(loss(output\u001b[38;5;241m.\u001b[39mT, y_batch))\n\u001b[0;32m    317\u001b[0m \u001b[38;5;66;03m#per_epoch_loss_val.append(loss(self.predict(X_val), y_val))\u001b[39;00m\n",
      "File \u001b[1;32m~\\Documents\\GitHub\\final-nn\\nn\\nn.py:235\u001b[0m, in \u001b[0;36mNeuralNetwork.backprop\u001b[1;34m(self, y, y_hat, cache)\u001b[0m\n\u001b[0;32m    233\u001b[0m layer \u001b[38;5;241m=\u001b[39m \u001b[38;5;28mself\u001b[39m\u001b[38;5;241m.\u001b[39march[\u001b[38;5;241m-\u001b[39midx]\n\u001b[0;32m    234\u001b[0m layer_idx \u001b[38;5;241m=\u001b[39m \u001b[38;5;28mlen\u001b[39m(\u001b[38;5;28mself\u001b[39m\u001b[38;5;241m.\u001b[39march) \u001b[38;5;241m-\u001b[39m idx \u001b[38;5;241m+\u001b[39m \u001b[38;5;241m1\u001b[39m\n\u001b[1;32m--> 235\u001b[0m dA_prev, dW_curr, db_curr \u001b[38;5;241m=\u001b[39m \u001b[38;5;28;43mself\u001b[39;49m\u001b[38;5;241;43m.\u001b[39;49m\u001b[43m_single_backprop\u001b[49m\u001b[43m(\u001b[49m\u001b[43mW_curr\u001b[49m\u001b[38;5;241;43m=\u001b[39;49m\u001b[38;5;28;43mself\u001b[39;49m\u001b[38;5;241;43m.\u001b[39;49m\u001b[43m_param_dict\u001b[49m\u001b[43m[\u001b[49m\u001b[38;5;124;43m'\u001b[39;49m\u001b[38;5;124;43mW\u001b[39;49m\u001b[38;5;124;43m'\u001b[39;49m\u001b[43m \u001b[49m\u001b[38;5;241;43m+\u001b[39;49m\u001b[43m \u001b[49m\u001b[38;5;28;43mstr\u001b[39;49m\u001b[43m(\u001b[49m\u001b[43mlayer_idx\u001b[49m\u001b[38;5;241;43m-\u001b[39;49m\u001b[38;5;241;43m1\u001b[39;49m\u001b[43m)\u001b[49m\u001b[43m]\u001b[49m\u001b[43m,\u001b[49m\n\u001b[0;32m    236\u001b[0m \u001b[43m                                             \u001b[49m\u001b[43mb_curr\u001b[49m\u001b[38;5;241;43m=\u001b[39;49m\u001b[38;5;28;43mself\u001b[39;49m\u001b[38;5;241;43m.\u001b[39;49m\u001b[43m_param_dict\u001b[49m\u001b[43m[\u001b[49m\u001b[38;5;124;43m'\u001b[39;49m\u001b[38;5;124;43mb\u001b[39;49m\u001b[38;5;124;43m'\u001b[39;49m\u001b[43m \u001b[49m\u001b[38;5;241;43m+\u001b[39;49m\u001b[43m \u001b[49m\u001b[38;5;28;43mstr\u001b[39;49m\u001b[43m(\u001b[49m\u001b[43mlayer_idx\u001b[49m\u001b[38;5;241;43m-\u001b[39;49m\u001b[38;5;241;43m1\u001b[39;49m\u001b[43m)\u001b[49m\u001b[43m]\u001b[49m\u001b[43m,\u001b[49m\u001b[43m \u001b[49m\n\u001b[0;32m    237\u001b[0m \u001b[43m                                             \u001b[49m\u001b[43mZ_curr\u001b[49m\u001b[38;5;241;43m=\u001b[39;49m\u001b[43mcache\u001b[49m\u001b[43m[\u001b[49m\u001b[43mlayer_idx\u001b[49m\u001b[43m]\u001b[49m\u001b[43m[\u001b[49m\u001b[38;5;241;43m0\u001b[39;49m\u001b[43m]\u001b[49m\u001b[43m,\u001b[49m\n\u001b[0;32m    238\u001b[0m \u001b[43m                                             \u001b[49m\u001b[43mA_prev\u001b[49m\u001b[38;5;241;43m=\u001b[39;49m\u001b[43mcache\u001b[49m\u001b[43m[\u001b[49m\u001b[43mlayer_idx\u001b[49m\u001b[38;5;241;43m-\u001b[39;49m\u001b[38;5;241;43m1\u001b[39;49m\u001b[43m]\u001b[49m\u001b[43m[\u001b[49m\u001b[38;5;241;43m1\u001b[39;49m\u001b[43m]\u001b[49m\u001b[43m,\u001b[49m\n\u001b[0;32m    239\u001b[0m \u001b[43m                                             \u001b[49m\u001b[43mdA_curr\u001b[49m\u001b[38;5;241;43m=\u001b[39;49m\u001b[43mdA_curr\u001b[49m\u001b[43m,\u001b[49m\n\u001b[0;32m    240\u001b[0m \u001b[43m                                             \u001b[49m\u001b[43mactivation_curr\u001b[49m\u001b[38;5;241;43m=\u001b[39;49m\u001b[38;5;28;43mself\u001b[39;49m\u001b[38;5;241;43m.\u001b[39;49m\u001b[43march\u001b[49m\u001b[43m[\u001b[49m\u001b[43mlayer_idx\u001b[49m\u001b[38;5;241;43m-\u001b[39;49m\u001b[38;5;241;43m1\u001b[39;49m\u001b[43m]\u001b[49m\u001b[43m[\u001b[49m\u001b[38;5;124;43m'\u001b[39;49m\u001b[38;5;124;43mactivation\u001b[39;49m\u001b[38;5;124;43m'\u001b[39;49m\u001b[43m]\u001b[49m\u001b[43m)\u001b[49m\n\u001b[0;32m    241\u001b[0m grad_dict[layer_idx][\u001b[38;5;124m'\u001b[39m\u001b[38;5;124mdW\u001b[39m\u001b[38;5;124m'\u001b[39m] \u001b[38;5;241m+\u001b[39m\u001b[38;5;241m=\u001b[39m dW_curr\n\u001b[0;32m    242\u001b[0m grad_dict[layer_idx][\u001b[38;5;124m'\u001b[39m\u001b[38;5;124mdb\u001b[39m\u001b[38;5;124m'\u001b[39m] \u001b[38;5;241m+\u001b[39m\u001b[38;5;241m=\u001b[39m db_curr\n",
      "File \u001b[1;32m~\\Documents\\GitHub\\final-nn\\nn\\nn.py:197\u001b[0m, in \u001b[0;36mNeuralNetwork._single_backprop\u001b[1;34m(self, W_curr, b_curr, Z_curr, A_prev, dA_curr, activation_curr)\u001b[0m\n\u001b[0;32m    195\u001b[0m dW_curr \u001b[38;5;241m=\u001b[39m delta\u001b[38;5;129m@A_prev\u001b[39m\u001b[38;5;241m.\u001b[39mT \u001b[38;5;241m/\u001b[39m A_prev\u001b[38;5;241m.\u001b[39mshape[\u001b[38;5;241m1\u001b[39m]\n\u001b[0;32m    196\u001b[0m db_curr \u001b[38;5;241m=\u001b[39m np\u001b[38;5;241m.\u001b[39msum(delta, axis\u001b[38;5;241m=\u001b[39m\u001b[38;5;241m1\u001b[39m, keepdims\u001b[38;5;241m=\u001b[39m\u001b[38;5;28;01mTrue\u001b[39;00m) \u001b[38;5;241m/\u001b[39m A_prev\u001b[38;5;241m.\u001b[39mshape[\u001b[38;5;241m1\u001b[39m]\n\u001b[1;32m--> 197\u001b[0m dA_prev \u001b[38;5;241m=\u001b[39m \u001b[43mW_curr\u001b[49m\u001b[38;5;241;43m.\u001b[39;49m\u001b[43mT\u001b[49m\u001b[43m \u001b[49m\u001b[38;5;241;43m@\u001b[39;49m\u001b[43m \u001b[49m\u001b[43mdelta\u001b[49m\n\u001b[0;32m    199\u001b[0m \u001b[38;5;28;01mreturn\u001b[39;00m dA_prev, dW_curr, db_curr\n",
      "\u001b[1;31mValueError\u001b[0m: matmul: Input operand 1 has a mismatch in its core dimension 0, with gufunc signature (n?,k),(k,m?)->(n?,m?) (size 64 is different from 32)"
     ]
    }
   ],
   "source": [
    "digits_data_normalized = digits.data / 16\n",
    "\n",
    "X_train, X_test, y_train, y_test = train_test_split(digits_data_normalized, digits_data_normalized, test_size=0.3, random_state=42, shuffle=True, stratify=None)\n",
    "\n",
    "per_epoch_loss_train, per_epoch_loss_val = my_nn.fit(X_train, y_train, X_test, y_test)"
   ]
  },
  {
   "cell_type": "code",
   "execution_count": null,
   "id": "bfd359f3",
   "metadata": {
    "scrolled": true
   },
   "outputs": [],
   "source": [
    "num_batches = int(np.ceil(len(y_train) / 100))\n",
    "c = np.concatenate((X_train, y_train), axis=1)\n",
    "np.random.shuffle(c)\n",
    "\n",
    "#np.array_split(c, num_batches)"
   ]
  },
  {
   "cell_type": "code",
   "execution_count": null,
   "id": "07aa1031",
   "metadata": {},
   "outputs": [],
   "source": [
    "print(X_train.shape)\n",
    "print(y_train.shape)\n",
    "print(c.shape)"
   ]
  },
  {
   "cell_type": "code",
   "execution_count": null,
   "id": "2e7d40d2",
   "metadata": {},
   "outputs": [],
   "source": [
    "import matplotlib as mpl\n",
    "import matplotlib.pyplot as plt\n",
    "\n",
    "plt.plot(per_epoch_loss_train)\n",
    "plt.plot(per_epoch_loss_val)"
   ]
  },
  {
   "cell_type": "code",
   "execution_count": null,
   "id": "3cebfb36",
   "metadata": {},
   "outputs": [],
   "source": [
    "#plt.imshow(my_nn.predict(X_train[:419,:])[0,:].reshape((8,8)))"
   ]
  },
  {
   "cell_type": "code",
   "execution_count": null,
   "id": "b85669ca",
   "metadata": {},
   "outputs": [],
   "source": [
    "plt.imshow(my_nn.predict(X_train[:419,:])[:,0].reshape((8,8), order='A'), cmap='Greys_r')"
   ]
  },
  {
   "cell_type": "code",
   "execution_count": null,
   "id": "0f02848b",
   "metadata": {},
   "outputs": [],
   "source": [
    "plt.imshow(X_train[:419,:][0,:].reshape((8,8)), cmap='Greys_r')"
   ]
  },
  {
   "cell_type": "code",
   "execution_count": null,
   "id": "4f786693",
   "metadata": {},
   "outputs": [],
   "source": [
    "X_train[:419,:][0,:]"
   ]
  },
  {
   "cell_type": "code",
   "execution_count": null,
   "id": "0b3d7b90",
   "metadata": {},
   "outputs": [],
   "source": []
  }
 ],
 "metadata": {
  "kernelspec": {
   "display_name": "Python 3 (ipykernel)",
   "language": "python",
   "name": "python3"
  },
  "language_info": {
   "codemirror_mode": {
    "name": "ipython",
    "version": 3
   },
   "file_extension": ".py",
   "mimetype": "text/x-python",
   "name": "python",
   "nbconvert_exporter": "python",
   "pygments_lexer": "ipython3",
   "version": "3.9.16"
  }
 },
 "nbformat": 4,
 "nbformat_minor": 5
}
