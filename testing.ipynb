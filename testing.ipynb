{
 "cells": [
  {
   "cell_type": "code",
   "execution_count": 21,
   "id": "dcef1f44",
   "metadata": {},
   "outputs": [],
   "source": [
    "import numpy as np\n",
    "from nn import nn, io, preprocess\n",
    "\n",
    "from sklearn import datasets\n",
    "from sklearn.model_selection import train_test_split"
   ]
  },
  {
   "cell_type": "code",
   "execution_count": 22,
   "id": "b14f1e5d",
   "metadata": {},
   "outputs": [],
   "source": [
    "architecture = [{'input_dim': 64, 'output_dim': 32, 'activation': 'relu'}, \n",
    "                {'input_dim': 32, 'output_dim': 32, 'activation': 'relu'},\n",
    "                {'input_dim': 32, 'output_dim': 64, 'activation': 'relu'}]\n",
    "\n",
    "my_nn = nn.NeuralNetwork(nn_arch=architecture, lr=0.000001, seed=42, batch_size=10, epochs=10, loss_function='mse')"
   ]
  },
  {
   "cell_type": "code",
   "execution_count": 23,
   "id": "0a96c677",
   "metadata": {},
   "outputs": [],
   "source": [
    "#negatives = io.read_fasta_file('data/yeast-upstream-1k-negative.fa')\n",
    "#positives = io.read_text_file('data/rap1-lieb-positives.txt')\n",
    "\n",
    "#seqs, labels = preprocess.sample_seqs(negatives+positives, [False for _ in negatives] + [True for _ in positives])\n",
    "#seqs_1hot = preprocess.one_hot_encode_seqs(seqs)"
   ]
  },
  {
   "cell_type": "code",
   "execution_count": 24,
   "id": "c33f53f2",
   "metadata": {},
   "outputs": [],
   "source": [
    "digits = datasets.load_digits()"
   ]
  },
  {
   "cell_type": "code",
   "execution_count": 25,
   "id": "2bfa8ebd",
   "metadata": {},
   "outputs": [
    {
     "data": {
      "text/plain": [
       "['DESCR', 'data', 'feature_names', 'frame', 'images', 'target', 'target_names']"
      ]
     },
     "execution_count": 25,
     "metadata": {},
     "output_type": "execute_result"
    }
   ],
   "source": [
    "dir(digits)"
   ]
  },
  {
   "cell_type": "code",
   "execution_count": 26,
   "id": "91b603de",
   "metadata": {},
   "outputs": [],
   "source": [
    "digits_data = digits.data"
   ]
  },
  {
   "cell_type": "code",
   "execution_count": 27,
   "id": "7357d02c",
   "metadata": {},
   "outputs": [
    {
     "data": {
      "text/plain": [
       "(1797, 64)"
      ]
     },
     "execution_count": 27,
     "metadata": {},
     "output_type": "execute_result"
    }
   ],
   "source": [
    "digits.data.shape"
   ]
  },
  {
   "cell_type": "code",
   "execution_count": 28,
   "id": "2f73d285",
   "metadata": {},
   "outputs": [],
   "source": [
    "#my_nn.predict(digits.data).shape"
   ]
  },
  {
   "cell_type": "code",
   "execution_count": 29,
   "id": "7b8d212a",
   "metadata": {},
   "outputs": [
    {
     "name": "stdout",
     "output_type": "stream",
     "text": [
      "starting epoch #0\n",
      "(64, 32)\n",
      "(1257, 64)\n",
      "(1257, 64)\n",
      "(1257, 32)\n",
      "(1257, 64)\n",
      "(32, 64)\n",
      "(32, 32)\n",
      "(1257, 32)\n",
      "(1257, 32)\n",
      "(1257, 32)\n",
      "(1257, 32)\n",
      "(32, 32)\n",
      "(32, 64)\n",
      "(1257, 32)\n",
      "(1257, 32)\n",
      "(1257, 64)\n",
      "(1257, 32)\n",
      "(64, 32)\n",
      "might be forgetting 1/m terms\n",
      "done\n",
      "starting epoch #1\n",
      "(64, 32)\n",
      "(1257, 64)\n",
      "(1257, 64)\n",
      "(1257, 32)\n",
      "(1257, 64)\n",
      "(32, 64)\n",
      "(32, 32)\n",
      "(1257, 32)\n",
      "(1257, 32)\n",
      "(1257, 32)\n",
      "(1257, 32)\n",
      "(32, 32)\n",
      "(32, 64)\n",
      "(1257, 32)\n",
      "(1257, 32)\n",
      "(1257, 64)\n",
      "(1257, 32)\n",
      "(64, 32)\n",
      "might be forgetting 1/m terms\n",
      "done\n",
      "starting epoch #2\n",
      "(64, 32)\n",
      "(1257, 64)\n",
      "(1257, 64)\n",
      "(1257, 32)\n",
      "(1257, 64)\n",
      "(32, 64)\n",
      "(32, 32)\n",
      "(1257, 32)\n",
      "(1257, 32)\n",
      "(1257, 32)\n",
      "(1257, 32)\n",
      "(32, 32)\n",
      "(32, 64)\n",
      "(1257, 32)\n",
      "(1257, 32)\n",
      "(1257, 64)\n",
      "(1257, 32)\n",
      "(64, 32)\n",
      "might be forgetting 1/m terms\n",
      "done\n",
      "starting epoch #3\n",
      "(64, 32)\n",
      "(1257, 64)\n",
      "(1257, 64)\n",
      "(1257, 32)\n",
      "(1257, 64)\n",
      "(32, 64)\n",
      "(32, 32)\n",
      "(1257, 32)\n",
      "(1257, 32)\n",
      "(1257, 32)\n",
      "(1257, 32)\n",
      "(32, 32)\n",
      "(32, 64)\n",
      "(1257, 32)\n",
      "(1257, 32)\n",
      "(1257, 64)\n",
      "(1257, 32)\n",
      "(64, 32)\n",
      "might be forgetting 1/m terms\n",
      "done\n",
      "starting epoch #4\n",
      "(64, 32)\n",
      "(1257, 64)\n",
      "(1257, 64)\n",
      "(1257, 32)\n",
      "(1257, 64)\n",
      "(32, 64)\n",
      "(32, 32)\n",
      "(1257, 32)\n",
      "(1257, 32)\n",
      "(1257, 32)\n",
      "(1257, 32)\n",
      "(32, 32)\n",
      "(32, 64)\n",
      "(1257, 32)\n",
      "(1257, 32)\n",
      "(1257, 64)\n",
      "(1257, 32)\n",
      "(64, 32)\n",
      "might be forgetting 1/m terms\n",
      "done\n",
      "starting epoch #5\n",
      "(64, 32)\n",
      "(1257, 64)\n",
      "(1257, 64)\n",
      "(1257, 32)\n",
      "(1257, 64)\n",
      "(32, 64)\n",
      "(32, 32)\n",
      "(1257, 32)\n",
      "(1257, 32)\n",
      "(1257, 32)\n",
      "(1257, 32)\n",
      "(32, 32)\n",
      "(32, 64)\n",
      "(1257, 32)\n",
      "(1257, 32)\n",
      "(1257, 64)\n",
      "(1257, 32)\n",
      "(64, 32)\n",
      "might be forgetting 1/m terms\n",
      "done\n",
      "starting epoch #6\n",
      "(64, 32)\n",
      "(1257, 64)\n",
      "(1257, 64)\n",
      "(1257, 32)\n",
      "(1257, 64)\n",
      "(32, 64)\n",
      "(32, 32)\n",
      "(1257, 32)\n",
      "(1257, 32)\n",
      "(1257, 32)\n",
      "(1257, 32)\n",
      "(32, 32)\n",
      "(32, 64)\n",
      "(1257, 32)\n",
      "(1257, 32)\n",
      "(1257, 64)\n",
      "(1257, 32)\n",
      "(64, 32)\n",
      "might be forgetting 1/m terms\n",
      "done\n",
      "starting epoch #7\n",
      "(64, 32)\n",
      "(1257, 64)\n",
      "(1257, 64)\n",
      "(1257, 32)\n",
      "(1257, 64)\n",
      "(32, 64)\n",
      "(32, 32)\n",
      "(1257, 32)\n",
      "(1257, 32)\n",
      "(1257, 32)\n",
      "(1257, 32)\n",
      "(32, 32)\n",
      "(32, 64)\n",
      "(1257, 32)\n",
      "(1257, 32)\n",
      "(1257, 64)\n",
      "(1257, 32)\n",
      "(64, 32)\n",
      "might be forgetting 1/m terms\n",
      "done\n",
      "starting epoch #8\n",
      "(64, 32)\n",
      "(1257, 64)\n",
      "(1257, 64)\n",
      "(1257, 32)\n",
      "(1257, 64)\n",
      "(32, 64)\n",
      "(32, 32)\n",
      "(1257, 32)\n",
      "(1257, 32)\n",
      "(1257, 32)\n",
      "(1257, 32)\n",
      "(32, 32)\n",
      "(32, 64)\n",
      "(1257, 32)\n",
      "(1257, 32)\n",
      "(1257, 64)\n",
      "(1257, 32)\n",
      "(64, 32)\n",
      "might be forgetting 1/m terms\n",
      "done\n",
      "starting epoch #9\n",
      "(64, 32)\n",
      "(1257, 64)\n",
      "(1257, 64)\n",
      "(1257, 32)\n",
      "(1257, 64)\n",
      "(32, 64)\n",
      "(32, 32)\n",
      "(1257, 32)\n",
      "(1257, 32)\n",
      "(1257, 32)\n",
      "(1257, 32)\n",
      "(32, 32)\n",
      "(32, 64)\n",
      "(1257, 32)\n",
      "(1257, 32)\n",
      "(1257, 64)\n",
      "(1257, 32)\n",
      "(64, 32)\n",
      "might be forgetting 1/m terms\n",
      "done\n"
     ]
    }
   ],
   "source": [
    "X_train, X_test, y_train, y_test = train_test_split(digits.data, digits.data, test_size=0.3, random_state=42, shuffle=True, stratify=None)\n",
    "\n",
    "per_epoch_loss_train, per_epoch_loss_val = my_nn.fit(X_train, y_train, X_test, y_test)"
   ]
  },
  {
   "cell_type": "code",
   "execution_count": 30,
   "id": "6db088f6",
   "metadata": {},
   "outputs": [
    {
     "data": {
      "text/plain": [
       "[<matplotlib.lines.Line2D at 0x2052149bf10>]"
      ]
     },
     "execution_count": 30,
     "metadata": {},
     "output_type": "execute_result"
    },
    {
     "data": {
      "image/png": "[encoded data removed]",
      "text/plain": [
       "<Figure size 640x480 with 1 Axes>"
      ]
     },
     "metadata": {},
     "output_type": "display_data"
    }
   ],
   "source": [
    "import matplotlib as mpl\n",
    "import matplotlib.pyplot as plt\n",
    "\n",
    "plt.plot(per_epoch_loss_train)"
   ]
  }
 ],
 "metadata": {
  "kernelspec": {
   "display_name": "Python 3 (ipykernel)",
   "language": "python",
   "name": "python3"
  },
  "language_info": {
   "codemirror_mode": {
    "name": "ipython",
    "version": 3
   },
   "file_extension": ".py",
   "mimetype": "text/x-python",
   "name": "python",
   "nbconvert_exporter": "python",
   "pygments_lexer": "ipython3",
   "version": "3.9.16"
  }
 },
 "nbformat": 4,
 "nbformat_minor": 5
}
